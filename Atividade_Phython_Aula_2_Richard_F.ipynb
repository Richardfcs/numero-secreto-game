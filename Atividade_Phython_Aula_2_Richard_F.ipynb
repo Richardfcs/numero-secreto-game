{
  "nbformat": 4,
  "nbformat_minor": 0,
  "metadata": {
    "colab": {
      "provenance": [],
      "authorship_tag": "ABX9TyMI5bIxQs4a8qahbhRhjONP",
      "include_colab_link": true
    },
    "kernelspec": {
      "name": "python3",
      "display_name": "Python 3"
    },
    "language_info": {
      "name": "python"
    }
  },
  "cells": [
    {
      "cell_type": "markdown",
      "metadata": {
        "id": "view-in-github",
        "colab_type": "text"
      },
      "source": [
        "<a href=\"https://colab.research.google.com/github/Richardfcs/numero-secreto-game/blob/main/Atividade_Phython_Aula_2_Richard_F.ipynb\" target=\"_parent\"><img src=\"https://colab.research.google.com/assets/colab-badge.svg\" alt=\"Open In Colab\"/></a>"
      ]
    },
    {
      "cell_type": "markdown",
      "source": [
        "**Operações com Variáveis**"
      ],
      "metadata": {
        "id": "FK8U1n0TjGCx"
      }
    },
    {
      "cell_type": "code",
      "execution_count": 7,
      "metadata": {
        "id": "d4I0wetjipL2"
      },
      "outputs": [],
      "source": [
        "idade1 = 20"
      ]
    },
    {
      "cell_type": "code",
      "source": [
        "idade2 = 35"
      ],
      "metadata": {
        "id": "wz5r36xDi6Kj"
      },
      "execution_count": 8,
      "outputs": []
    },
    {
      "cell_type": "code",
      "source": [
        "idade1 + idade2"
      ],
      "metadata": {
        "id": "tdNQcGiBi6vs",
        "colab": {
          "base_uri": "https://localhost:8080/"
        },
        "outputId": "cbadb0ae-f314-4db3-cbe8-5afb288d1122"
      },
      "execution_count": 9,
      "outputs": [
        {
          "output_type": "execute_result",
          "data": {
            "text/plain": [
              "55"
            ]
          },
          "metadata": {},
          "execution_count": 9
        }
      ]
    },
    {
      "cell_type": "code",
      "source": [
        "print(idade1)\n",
        "print(idade2)"
      ],
      "metadata": {
        "id": "daQEV5JZjY9J",
        "colab": {
          "base_uri": "https://localhost:8080/"
        },
        "outputId": "87c01eb7-936c-426f-8912-305add36e5ff"
      },
      "execution_count": 10,
      "outputs": [
        {
          "output_type": "stream",
          "name": "stdout",
          "text": [
            "20\n",
            "35\n"
          ]
        }
      ]
    },
    {
      "cell_type": "markdown",
      "source": [
        "---"
      ],
      "metadata": {
        "id": "v0n1nRMXjn4C"
      }
    },
    {
      "cell_type": "code",
      "source": [
        "somaidades = idade1 + idade2"
      ],
      "metadata": {
        "id": "1HhXU_6ti7Eq"
      },
      "execution_count": 11,
      "outputs": []
    },
    {
      "cell_type": "code",
      "source": [
        "print(somaidades)"
      ],
      "metadata": {
        "id": "BuDb5NLpi7I1",
        "colab": {
          "base_uri": "https://localhost:8080/"
        },
        "outputId": "89f39439-55d3-40c4-b499-c6a695af711f"
      },
      "execution_count": 12,
      "outputs": [
        {
          "output_type": "stream",
          "name": "stdout",
          "text": [
            "55\n"
          ]
        }
      ]
    },
    {
      "cell_type": "markdown",
      "source": [
        "---"
      ],
      "metadata": {
        "id": "2BFATK55jsMJ"
      }
    },
    {
      "cell_type": "code",
      "source": [
        "idade1 - idade2"
      ],
      "metadata": {
        "id": "jb1XIU0ri7ME",
        "colab": {
          "base_uri": "https://localhost:8080/"
        },
        "outputId": "aaf95bcb-d95d-4d36-ae58-b19267132aae"
      },
      "execution_count": 13,
      "outputs": [
        {
          "output_type": "execute_result",
          "data": {
            "text/plain": [
              "-15"
            ]
          },
          "metadata": {},
          "execution_count": 13
        }
      ]
    },
    {
      "cell_type": "code",
      "source": [
        "idade1 * idade2"
      ],
      "metadata": {
        "id": "78aciScui7g8",
        "colab": {
          "base_uri": "https://localhost:8080/"
        },
        "outputId": "de3ce308-4703-45ba-8ca9-f739d6eba83b"
      },
      "execution_count": 14,
      "outputs": [
        {
          "output_type": "execute_result",
          "data": {
            "text/plain": [
              "700"
            ]
          },
          "metadata": {},
          "execution_count": 14
        }
      ]
    },
    {
      "cell_type": "code",
      "source": [
        "idade1 / idade2"
      ],
      "metadata": {
        "id": "-bk9i2axi7kr",
        "colab": {
          "base_uri": "https://localhost:8080/"
        },
        "outputId": "2ebcfefe-c761-4852-aea6-4c8d85b14055"
      },
      "execution_count": 15,
      "outputs": [
        {
          "output_type": "execute_result",
          "data": {
            "text/plain": [
              "0.5714285714285714"
            ]
          },
          "metadata": {},
          "execution_count": 15
        }
      ]
    },
    {
      "cell_type": "code",
      "source": [
        "print(idade1 - idade2)\n",
        "print(idade1 * idade2)\n",
        "print(idade1 / idade2)"
      ],
      "metadata": {
        "id": "_Ex8yOp1kQGQ",
        "colab": {
          "base_uri": "https://localhost:8080/"
        },
        "outputId": "ad8e4d95-d752-4cbb-daf5-391096bbd19e"
      },
      "execution_count": 16,
      "outputs": [
        {
          "output_type": "stream",
          "name": "stdout",
          "text": [
            "-15\n",
            "700\n",
            "0.5714285714285714\n"
          ]
        }
      ]
    },
    {
      "cell_type": "markdown",
      "source": [
        "---"
      ],
      "metadata": {
        "id": "ApQq3x5CkI8P"
      }
    },
    {
      "cell_type": "code",
      "source": [
        "idade1 + 10"
      ],
      "metadata": {
        "id": "W3bTnNXwj4m5",
        "colab": {
          "base_uri": "https://localhost:8080/"
        },
        "outputId": "6fe8b126-ca59-4d93-df24-e61962582e5a"
      },
      "execution_count": 17,
      "outputs": [
        {
          "output_type": "execute_result",
          "data": {
            "text/plain": [
              "30"
            ]
          },
          "metadata": {},
          "execution_count": 17
        }
      ]
    },
    {
      "cell_type": "code",
      "source": [
        "idade1 - 10"
      ],
      "metadata": {
        "id": "slK0HFGmj4j5",
        "colab": {
          "base_uri": "https://localhost:8080/"
        },
        "outputId": "a5f7343c-00a1-4208-cce1-dbcb422d43ba"
      },
      "execution_count": 18,
      "outputs": [
        {
          "output_type": "execute_result",
          "data": {
            "text/plain": [
              "10"
            ]
          },
          "metadata": {},
          "execution_count": 18
        }
      ]
    },
    {
      "cell_type": "code",
      "source": [
        "idade1 * 4"
      ],
      "metadata": {
        "id": "N1TaqR6Cj4g5",
        "colab": {
          "base_uri": "https://localhost:8080/"
        },
        "outputId": "d84c4d65-749c-47ff-ba77-2eabcb3badc9"
      },
      "execution_count": 19,
      "outputs": [
        {
          "output_type": "execute_result",
          "data": {
            "text/plain": [
              "80"
            ]
          },
          "metadata": {},
          "execution_count": 19
        }
      ]
    },
    {
      "cell_type": "code",
      "source": [
        "idade1 / 5"
      ],
      "metadata": {
        "id": "W_LisnAzj4d4",
        "colab": {
          "base_uri": "https://localhost:8080/"
        },
        "outputId": "fc92235f-758e-44e6-dfa0-a83cb9584ffe"
      },
      "execution_count": 20,
      "outputs": [
        {
          "output_type": "execute_result",
          "data": {
            "text/plain": [
              "4.0"
            ]
          },
          "metadata": {},
          "execution_count": 20
        }
      ]
    },
    {
      "cell_type": "code",
      "source": [
        "print(idade1 + 10)\n",
        "print(idade1 - 10)\n",
        "print(idade1 * 4)\n",
        "print(idade1 / 5)"
      ],
      "metadata": {
        "id": "CP36fyw0kfWy",
        "colab": {
          "base_uri": "https://localhost:8080/"
        },
        "outputId": "0d0e6fe9-408f-4b83-b3a6-974dceb1ac95"
      },
      "execution_count": 21,
      "outputs": [
        {
          "output_type": "stream",
          "name": "stdout",
          "text": [
            "30\n",
            "10\n",
            "80\n",
            "4.0\n"
          ]
        }
      ]
    },
    {
      "cell_type": "markdown",
      "source": [
        "---"
      ],
      "metadata": {
        "id": "tLpNutL9kKfH"
      }
    },
    {
      "cell_type": "code",
      "source": [
        "2 * (idade1 + idade2)"
      ],
      "metadata": {
        "id": "SLTfcmoRj4T_",
        "colab": {
          "base_uri": "https://localhost:8080/"
        },
        "outputId": "57585f80-3100-4574-daf0-a0d64c552b7d"
      },
      "execution_count": 22,
      "outputs": [
        {
          "output_type": "execute_result",
          "data": {
            "text/plain": [
              "110"
            ]
          },
          "metadata": {},
          "execution_count": 22
        }
      ]
    },
    {
      "cell_type": "code",
      "source": [
        "2 * idade1 + 3 + idade2 / 4"
      ],
      "metadata": {
        "id": "fySZ0WjalYuH",
        "colab": {
          "base_uri": "https://localhost:8080/"
        },
        "outputId": "9ab953dd-2743-4db6-c766-cb1b1d2ce485"
      },
      "execution_count": 24,
      "outputs": [
        {
          "output_type": "execute_result",
          "data": {
            "text/plain": [
              "51.75"
            ]
          },
          "metadata": {},
          "execution_count": 24
        }
      ]
    },
    {
      "cell_type": "code",
      "source": [
        "(2 + idade1 + 3 * idade2) / 4"
      ],
      "metadata": {
        "id": "Z9XLkIS2ldHJ",
        "colab": {
          "base_uri": "https://localhost:8080/"
        },
        "outputId": "f3528d30-dddc-4f1a-8eeb-3d4622985df3"
      },
      "execution_count": 25,
      "outputs": [
        {
          "output_type": "execute_result",
          "data": {
            "text/plain": [
              "31.75"
            ]
          },
          "metadata": {},
          "execution_count": 25
        }
      ]
    },
    {
      "cell_type": "code",
      "source": [
        "print(2 * (idade1 + idade2))\n",
        "print(2 * idade1 + 3 + idade2 / 4)\n",
        "print((2 + idade1 + 3 * idade2) / 4)"
      ],
      "metadata": {
        "id": "7WN8wZOIlwgM",
        "colab": {
          "base_uri": "https://localhost:8080/"
        },
        "outputId": "e49ec253-4794-4a78-9ad5-7c24220b020c"
      },
      "execution_count": 27,
      "outputs": [
        {
          "output_type": "stream",
          "name": "stdout",
          "text": [
            "110\n",
            "51.75\n",
            "31.75\n"
          ]
        }
      ]
    },
    {
      "cell_type": "markdown",
      "source": [
        "---"
      ],
      "metadata": {
        "id": "VQOPDDLyl53C"
      }
    },
    {
      "cell_type": "code",
      "source": [
        "idade1 ** 2"
      ],
      "metadata": {
        "id": "JjXEBSF8l6tq",
        "colab": {
          "base_uri": "https://localhost:8080/"
        },
        "outputId": "03c29a85-ab61-4601-a8b5-6bf7833494a6"
      },
      "execution_count": 28,
      "outputs": [
        {
          "output_type": "execute_result",
          "data": {
            "text/plain": [
              "400"
            ]
          },
          "metadata": {},
          "execution_count": 28
        }
      ]
    },
    {
      "cell_type": "code",
      "source": [
        "15 ** 2"
      ],
      "metadata": {
        "id": "XNjtncMqmC6p",
        "colab": {
          "base_uri": "https://localhost:8080/"
        },
        "outputId": "f576427c-89ab-471f-ebf2-f3a1a329012e"
      },
      "execution_count": 29,
      "outputs": [
        {
          "output_type": "execute_result",
          "data": {
            "text/plain": [
              "225"
            ]
          },
          "metadata": {},
          "execution_count": 29
        }
      ]
    },
    {
      "cell_type": "code",
      "source": [
        "idade2 // idade1"
      ],
      "metadata": {
        "id": "U0jc4j1BmFrm",
        "colab": {
          "base_uri": "https://localhost:8080/"
        },
        "outputId": "4fc9d705-7464-448e-88a1-d805ef3f8c0d"
      },
      "execution_count": 30,
      "outputs": [
        {
          "output_type": "execute_result",
          "data": {
            "text/plain": [
              "1"
            ]
          },
          "metadata": {},
          "execution_count": 30
        }
      ]
    },
    {
      "cell_type": "code",
      "source": [
        "idade2 / idade1"
      ],
      "metadata": {
        "id": "h4sUXsnkmFd2",
        "colab": {
          "base_uri": "https://localhost:8080/"
        },
        "outputId": "dd5afa13-d220-4d25-de23-b9bbad57873a"
      },
      "execution_count": 31,
      "outputs": [
        {
          "output_type": "execute_result",
          "data": {
            "text/plain": [
              "1.75"
            ]
          },
          "metadata": {},
          "execution_count": 31
        }
      ]
    },
    {
      "cell_type": "code",
      "source": [
        "print(idade1 ** 2)\n",
        "print(15 ** 2)\n",
        "print(idade2 // idade1)\n",
        "print(idade2 / idade1)"
      ],
      "metadata": {
        "id": "xfzi2X4kmFRO",
        "colab": {
          "base_uri": "https://localhost:8080/"
        },
        "outputId": "a8c79e00-b37c-48e0-f7de-af1cb196c9cd"
      },
      "execution_count": 32,
      "outputs": [
        {
          "output_type": "stream",
          "name": "stdout",
          "text": [
            "400\n",
            "225\n",
            "1\n",
            "1.75\n"
          ]
        }
      ]
    },
    {
      "cell_type": "markdown",
      "source": [
        "---"
      ],
      "metadata": {
        "id": "E7GsKK21mxXk"
      }
    },
    {
      "cell_type": "code",
      "source": [
        "idade2 % idade1"
      ],
      "metadata": {
        "id": "sn5tJWuSmyhG",
        "colab": {
          "base_uri": "https://localhost:8080/"
        },
        "outputId": "a55757e7-cf71-414e-a7e5-4e41165db5fd"
      },
      "execution_count": 33,
      "outputs": [
        {
          "output_type": "execute_result",
          "data": {
            "text/plain": [
              "15"
            ]
          },
          "metadata": {},
          "execution_count": 33
        }
      ]
    },
    {
      "cell_type": "code",
      "source": [
        "print(idade2 % idade1)"
      ],
      "metadata": {
        "id": "sk2w2_R6m5N3",
        "colab": {
          "base_uri": "https://localhost:8080/"
        },
        "outputId": "3e1dbd87-5fed-415d-83cc-64c1f14e0902"
      },
      "execution_count": 34,
      "outputs": [
        {
          "output_type": "stream",
          "name": "stdout",
          "text": [
            "15\n"
          ]
        }
      ]
    },
    {
      "cell_type": "markdown",
      "source": [
        "---"
      ],
      "metadata": {
        "id": "QIjSzzLzm-X-"
      }
    },
    {
      "cell_type": "markdown",
      "source": [
        "**Concatenação de Variáveis**"
      ],
      "metadata": {
        "id": "5GLoDEZInC9f"
      }
    },
    {
      "cell_type": "code",
      "source": [
        "nome = 'Camila'\n",
        "sobrenome = 'Danila'"
      ],
      "metadata": {
        "id": "gDGjmumAm_Nm"
      },
      "execution_count": 35,
      "outputs": []
    },
    {
      "cell_type": "code",
      "source": [
        "print(nome + sobrenome)"
      ],
      "metadata": {
        "id": "wNNhTXNgnVQN",
        "colab": {
          "base_uri": "https://localhost:8080/"
        },
        "outputId": "f1c23a40-cac9-4f2c-a176-32212fc3530f"
      },
      "execution_count": 36,
      "outputs": [
        {
          "output_type": "stream",
          "name": "stdout",
          "text": [
            "CamilaDanila\n"
          ]
        }
      ]
    },
    {
      "cell_type": "code",
      "source": [
        "print(nome + ' ' + sobrenome)"
      ],
      "metadata": {
        "colab": {
          "base_uri": "https://localhost:8080/"
        },
        "id": "81Es9NZ9Ft7C",
        "outputId": "60edd1b3-a160-4f48-ed20-604dd66244ef"
      },
      "execution_count": 39,
      "outputs": [
        {
          "output_type": "stream",
          "name": "stdout",
          "text": [
            "Camila Danila\n"
          ]
        }
      ]
    },
    {
      "cell_type": "code",
      "source": [
        "print('olá ' , nome , 'você tem' , idade1 + 15 , 'anos')"
      ],
      "metadata": {
        "id": "K7jsQpKyndQm",
        "colab": {
          "base_uri": "https://localhost:8080/"
        },
        "outputId": "98d61d71-afdd-4e20-98ed-c465c3637dde"
      },
      "execution_count": 37,
      "outputs": [
        {
          "output_type": "stream",
          "name": "stdout",
          "text": [
            "olá  Camila você tem 35 anos\n"
          ]
        }
      ]
    },
    {
      "cell_type": "code",
      "source": [
        "print('olá ' , nome , '\\n' , 'você tem' , idade1 + 15 , 'anos')"
      ],
      "metadata": {
        "id": "nB-HGrQAnq7t",
        "colab": {
          "base_uri": "https://localhost:8080/"
        },
        "outputId": "8423d13d-4936-4fe5-c5bf-632255c5fc5b"
      },
      "execution_count": 38,
      "outputs": [
        {
          "output_type": "stream",
          "name": "stdout",
          "text": [
            "olá  Camila \n",
            " você tem 35 anos\n"
          ]
        }
      ]
    },
    {
      "cell_type": "markdown",
      "source": [
        "---"
      ],
      "metadata": {
        "id": "2xOObn-kn6on"
      }
    },
    {
      "cell_type": "markdown",
      "source": [
        "**Input: solicitações ao usuário**"
      ],
      "metadata": {
        "id": "l3bY079PoEkd"
      }
    },
    {
      "cell_type": "code",
      "source": [
        "input('Digite seu nome: ')"
      ],
      "metadata": {
        "id": "3bbEdDD5oJmV",
        "colab": {
          "base_uri": "https://localhost:8080/",
          "height": 53
        },
        "outputId": "d8e61d3f-10db-4066-f38e-7bc76096555c"
      },
      "execution_count": 40,
      "outputs": [
        {
          "name": "stdout",
          "output_type": "stream",
          "text": [
            "Digite seu nome: Richard\n"
          ]
        },
        {
          "output_type": "execute_result",
          "data": {
            "text/plain": [
              "'Richard'"
            ],
            "application/vnd.google.colaboratory.intrinsic+json": {
              "type": "string"
            }
          },
          "metadata": {},
          "execution_count": 40
        }
      ]
    },
    {
      "cell_type": "code",
      "source": [
        "nome = input('Digite seu nome: ')"
      ],
      "metadata": {
        "id": "Ql-DvsB0oOXt",
        "colab": {
          "base_uri": "https://localhost:8080/"
        },
        "outputId": "fec35adb-73cd-46b6-f4d1-91b535dc0e6a"
      },
      "execution_count": 41,
      "outputs": [
        {
          "name": "stdout",
          "output_type": "stream",
          "text": [
            "Digite seu nome: Richard\n"
          ]
        }
      ]
    },
    {
      "cell_type": "code",
      "source": [
        "print(nome)"
      ],
      "metadata": {
        "id": "i5lFk7HUoTKW",
        "colab": {
          "base_uri": "https://localhost:8080/"
        },
        "outputId": "8ad7c959-c88a-48ea-f739-0b29a5cb83b5"
      },
      "execution_count": 42,
      "outputs": [
        {
          "output_type": "stream",
          "name": "stdout",
          "text": [
            "Richard\n"
          ]
        }
      ]
    },
    {
      "cell_type": "code",
      "source": [
        "nome = str(input('Digite seu nome: '))\n",
        "print(nome)"
      ],
      "metadata": {
        "id": "oYKpc6F_oV2V",
        "colab": {
          "base_uri": "https://localhost:8080/"
        },
        "outputId": "0b9cc65d-72ee-4a15-ea6b-c86750f087fe"
      },
      "execution_count": 43,
      "outputs": [
        {
          "output_type": "stream",
          "name": "stdout",
          "text": [
            "Digite seu nome: Richard\n",
            "Richard\n"
          ]
        }
      ]
    },
    {
      "cell_type": "markdown",
      "source": [
        "---"
      ],
      "metadata": {
        "id": "YWI3Thgsoe5c"
      }
    },
    {
      "cell_type": "markdown",
      "source": [
        "**Operadores**"
      ],
      "metadata": {
        "id": "rsfDZQyZojpU"
      }
    },
    {
      "cell_type": "code",
      "source": [
        "#Adição +\n",
        "#Subtração -\n",
        "#Multiplicação *\n",
        "#Divisão /\n",
        "#Exponenciação **\n",
        "#Parte inteira //\n",
        "#Módulo %"
      ],
      "metadata": {
        "id": "g6mY2b2nogEt"
      },
      "execution_count": 44,
      "outputs": []
    }
  ]
}